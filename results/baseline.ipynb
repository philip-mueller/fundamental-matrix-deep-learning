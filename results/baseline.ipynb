{
 "cells": [
  {
   "cell_type": "code",
   "execution_count": 1,
   "metadata": {},
   "outputs": [],
   "source": [
    "# Change working directory to project root directory as all scripts and imports assume this dir\n",
    "import os\n",
    "os.chdir('../')\n",
    "import sys\n",
    "sys.path.append('../')"
   ]
  },
  {
   "cell_type": "code",
   "execution_count": 2,
   "metadata": {},
   "outputs": [],
   "source": [
    "from train.utils.metrics import *\n",
    "from dataset_utils.dataset_loading import load_FMatrix_dataset"
   ]
  },
  {
   "cell_type": "code",
   "execution_count": 3,
   "metadata": {},
   "outputs": [],
   "source": [
    "data, _ = load_FMatrix_dataset('synthetic_horse_rotation', norm='fro', type='TEST')\n",
    "X, Y = data.load_all()"
   ]
  },
  {
   "cell_type": "code",
   "execution_count": 4,
   "metadata": {},
   "outputs": [
    {
     "name": "stdout",
     "output_type": "stream",
     "text": [
      "Calculating baseline metrics\n",
      "For 166/245 samples the fundamental matrix could not be estimated, because not enough matching points have been found\n"
     ]
    },
    {
     "data": {
      "text/plain": [
       "({'SIFT_epi_abs': 6.8722002923722805,\n",
       "  'SIFT_epi_sqr': 406.68107285349043,\n",
       "  'SIFT_sed': 2578.759913774467,\n",
       "  'SIFT_ssd': 430.63289201372135,\n",
       "  'epi_abs': 47.23692625018593,\n",
       "  'epi_sqr': 555665.9430154078,\n",
       "  'sed': 18512763.764302522,\n",
       "  'ssd': 1923.9269046576019},\n",
       " 166)"
      ]
     },
     "execution_count": 4,
     "metadata": {},
     "output_type": "execute_result"
    }
   ],
   "source": [
    "calculate_baseline_metrics(X, Y, [epi_abs, epi_sqr, sed, ssd])"
   ]
  },
  {
   "cell_type": "code",
   "execution_count": null,
   "metadata": {},
   "outputs": [],
   "source": []
  }
 ],
 "metadata": {
  "kernelspec": {
   "display_name": "idp",
   "language": "python",
   "name": "idp"
  },
  "language_info": {
   "codemirror_mode": {
    "name": "ipython",
    "version": 3
   },
   "file_extension": ".py",
   "mimetype": "text/x-python",
   "name": "python",
   "nbconvert_exporter": "python",
   "pygments_lexer": "ipython3",
   "version": "3.5.2"
  }
 },
 "nbformat": 4,
 "nbformat_minor": 2
}
