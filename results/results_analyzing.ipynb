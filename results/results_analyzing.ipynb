{
 "cells": [
  {
   "cell_type": "code",
   "execution_count": 1,
   "metadata": {},
   "outputs": [],
   "source": [
    "# Change working directory to project root directory as all scripts and imports assume this dir\n",
    "import os\n",
    "os.chdir('../')\n",
    "import sys\n",
    "sys.path.append('../')"
   ]
  },
  {
   "cell_type": "code",
   "execution_count": 2,
   "metadata": {},
   "outputs": [],
   "source": [
    "from train.utils.results import *"
   ]
  },
  {
   "cell_type": "code",
   "execution_count": 9,
   "metadata": {
    "scrolled": true
   },
   "outputs": [],
   "source": [
    "extract_all_model_results(target_folder='results')"
   ]
  },
  {
   "cell_type": "code",
   "execution_count": 10,
   "metadata": {},
   "outputs": [],
   "source": [
    "all_results = load_extracted_results('results')"
   ]
  },
  {
   "cell_type": "code",
   "execution_count": 11,
   "metadata": {},
   "outputs": [
    {
     "name": "stdout",
     "output_type": "stream",
     "text": [
      "Creating results csv for best metric F_loss\n",
      "Creating results csv for best metric epi_abs\n",
      "Creating results csv for best metric SIFT_epi_abs\n",
      "Creating results csv for best metric val_epi_abs\n",
      "Creating results csv for best metric val_SIFT_epi_abs\n",
      "Creating results csv for best metric epi_sqr\n",
      "Creating results csv for best metric SIFT_epi_sqr\n",
      "Creating results csv for best metric val_epi_sqr\n",
      "Creating results csv for best metric val_SIFT_epi_sqr\n"
     ]
    }
   ],
   "source": [
    "convert_model_results_to_csvs(all_results, 'results/comparison',\n",
    "                              ['F_loss', 'epi_abs', 'SIFT_epi_abs', 'val_epi_abs', 'val_SIFT_epi_abs',\n",
    "                              'epi_sqr', 'SIFT_epi_sqr', 'val_epi_sqr', 'val_SIFT_epi_sqr'])"
   ]
  },
  {
   "cell_type": "code",
   "execution_count": null,
   "metadata": {},
   "outputs": [],
   "source": [
    "save_result_plots(all_results, 'results/plots')"
   ]
  },
  {
   "cell_type": "code",
   "execution_count": null,
   "metadata": {},
   "outputs": [],
   "source": []
  }
 ],
 "metadata": {
  "kernelspec": {
   "display_name": "idp",
   "language": "python",
   "name": "idp"
  },
  "language_info": {
   "codemirror_mode": {
    "name": "ipython",
    "version": 3
   },
   "file_extension": ".py",
   "mimetype": "text/x-python",
   "name": "python",
   "nbconvert_exporter": "python",
   "pygments_lexer": "ipython3",
   "version": "3.5.2"
  }
 },
 "nbformat": 4,
 "nbformat_minor": 2
}
